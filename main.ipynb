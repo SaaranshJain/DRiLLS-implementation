{
 "cells": [
  {
   "cell_type": "markdown",
   "metadata": {},
   "source": [
    "# Imports"
   ]
  },
  {
   "cell_type": "code",
   "execution_count": null,
   "metadata": {},
   "outputs": [],
   "source": [
    "import torch\n",
    "import torch.nn as nn\n",
    "import torch.nn.functional as F\n",
    "import torch.optim as optim\n",
    "from abc_py.interface import ABC\n",
    "import functools\n",
    "import os\n",
    "from torch.distributions import Categorical"
   ]
  },
  {
   "cell_type": "markdown",
   "metadata": {},
   "source": [
    "# Definitions"
   ]
  },
  {
   "cell_type": "code",
   "execution_count": null,
   "metadata": {},
   "outputs": [],
   "source": [
    "possible_actions = [\n",
    "    functools.partial(ABC.resub, zero_cost=False),\n",
    "    functools.partial(ABC.resub, zero_cost=True),\n",
    "    functools.partial(ABC.rewrite, zero_cost=False, preserve_levels=True, verbose=False),\n",
    "    functools.partial(ABC.rewrite, zero_cost=True, preserve_levels=True, verbose=False),\n",
    "    functools.partial(ABC.refactor, zero_cost=False),\n",
    "    functools.partial(ABC.refactor, zero_cost=True),\n",
    "    functools.partial(ABC.balance),\n",
    "]\n",
    "\n",
    "num_actions = len(possible_actions)\n",
    "num_features = 8\n",
    "learning_rate = 0.01\n",
    "discount_factor = 0.99"
   ]
  },
  {
   "cell_type": "code",
   "execution_count": null,
   "metadata": {},
   "outputs": [],
   "source": [
    "class ActorNetwork(nn.Module):\n",
    "    def __init__(self, num_features, num_actions):\n",
    "        super(ActorNetwork, self).__init__()\n",
    "        self.fc1 = nn.Linear(num_features, 20)\n",
    "        self.fc2 = nn.Linear(20, 20)\n",
    "        self.fc3 = nn.Linear(20, num_actions)\n",
    "\n",
    "    def forward(self, x):\n",
    "        x = F.relu(self.fc1(x))\n",
    "        x = F.relu(self.fc2(x))\n",
    "        return F.softmax(self.fc3(x), dim=-1)"
   ]
  },
  {
   "cell_type": "code",
   "execution_count": null,
   "metadata": {},
   "outputs": [],
   "source": [
    "class CriticNetwork(nn.Module):\n",
    "    def __init__(self, num_features):\n",
    "        super(CriticNetwork, self).__init__()\n",
    "        self.fc1 = nn.Linear(num_features, 10)\n",
    "        self.fc2 = nn.Linear(10, 1)\n",
    "\n",
    "    def forward(self, x):\n",
    "        x = F.relu(self.fc1(x))\n",
    "        return self.fc2(x)"
   ]
  },
  {
   "cell_type": "code",
   "execution_count": null,
   "metadata": {},
   "outputs": [],
   "source": [
    "def select_action(actor: ActorNetwork, state: torch.Tensor):\n",
    "    action_probs = actor(torch.tensor(state).float())\n",
    "    action_distribution = Categorical(action_probs)\n",
    "    action = action_distribution.sample()\n",
    "    return action.item(), action_distribution.log_prob(action).reshape(1)"
   ]
  },
  {
   "cell_type": "code",
   "execution_count": null,
   "metadata": {},
   "outputs": [],
   "source": [
    "def calculate_losses(critic: CriticNetwork, action_log_prob: torch.Tensor, reward: int, state: torch.Tensor, next_state: torch.Tensor):\n",
    "    value = critic(state)\n",
    "    next_value = critic(next_state)\n",
    "    td_error = reward + discount_factor * next_value - value\n",
    "    actor_loss = -action_log_prob * td_error.detach()\n",
    "    critic_loss = td_error ** 2\n",
    "    return actor_loss, critic_loss"
   ]
  },
  {
   "cell_type": "code",
   "execution_count": null,
   "metadata": {},
   "outputs": [],
   "source": [
    "def calculate_reward(state: torch.Tensor, next_state: torch.Tensor):\n",
    "    # run asap7\n",
    "    # refer to reward table in the paper\n",
    "    pass"
   ]
  },
  {
   "cell_type": "code",
   "execution_count": null,
   "metadata": {},
   "outputs": [],
   "source": [
    "def train(actor: ActorNetwork, critic: CriticNetwork, actor_optimizer, critic_optimizer, episodes=50, iterations=50):\n",
    "    for episode in range(episodes):\n",
    "        abc = ABC()\n",
    "        init_stats = abc.read_aiger(\"i10.aig\")\n",
    "        assert len(init_stats) == num_features\n",
    "\n",
    "        state = torch.tensor(init_stats[:2] + [1] * (num_features - 2), dtype=torch.float)\n",
    "        init_stats = torch.tensor(init_stats, dtype=torch.float)\n",
    "\n",
    "        for i in range(iterations):\n",
    "            # select action from actor model\n",
    "            action, action_log_prob = select_action(actor, state)\n",
    "\n",
    "            # take action and observe next state\n",
    "            action_to_be_taken = possible_actions[action]\n",
    "            new_stats = action_to_be_taken(abc)\n",
    "            next_state = torch.tensor(new_stats, dtype=torch.float) / init_stats # take ratio with respect to initial stats\n",
    "            next_state[0] = state[0] # keep the number of inputs same\n",
    "            next_state[1] = state[1] # keep the number of outputs same\n",
    "\n",
    "            # calculate reward and update actor and critic models\n",
    "            reward = calculate_reward(state, next_state)\n",
    "            actor_loss, critic_loss = calculate_losses(critic, action_log_prob, reward, state, next_state)\n",
    "            actor_optimizer.zero_grad()\n",
    "            actor_loss.backward()\n",
    "            actor_optimizer.step()\n",
    "            critic_optimizer.zero_grad()\n",
    "            critic_loss.backward()\n",
    "            critic_optimizer.step()\n",
    "\n",
    "            # update state\n",
    "            state = next_state\n",
    "\n",
    "        if abc.quit() != 0:\n",
    "            print(\"Error in quitting abc\")\n",
    "            return"
   ]
  },
  {
   "cell_type": "code",
   "execution_count": null,
   "metadata": {},
   "outputs": [],
   "source": [
    "actor = ActorNetwork(num_features, num_actions)\n",
    "critic = CriticNetwork(num_features)\n",
    "actor_optimizer = optim.Adam(actor.parameters(), lr=learning_rate)\n",
    "critic_optimizer = optim.Adam(critic.parameters(), lr=learning_rate)"
   ]
  }
 ],
 "metadata": {
  "kernelspec": {
   "display_name": "venv",
   "language": "python",
   "name": "python3"
  },
  "language_info": {
   "codemirror_mode": {
    "name": "ipython",
    "version": 3
   },
   "file_extension": ".py",
   "mimetype": "text/x-python",
   "name": "python",
   "nbconvert_exporter": "python",
   "pygments_lexer": "ipython3",
   "version": "3.12.3"
  }
 },
 "nbformat": 4,
 "nbformat_minor": 2
}
